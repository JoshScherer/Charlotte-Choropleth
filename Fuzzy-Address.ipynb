{
 "cells": [
  {
   "cell_type": "code",
   "execution_count": 10,
   "id": "7a44b896",
   "metadata": {},
   "outputs": [],
   "source": [
    "import os\n",
    "import boto3\n",
    "import getpass\n",
    "from io import StringIO\n",
    "import pandas as pd\n",
    "import geopandas as gpd"
   ]
  },
  {
   "cell_type": "code",
   "execution_count": 2,
   "id": "164e6471",
   "metadata": {},
   "outputs": [
    {
     "name": "stdout",
     "output_type": "stream",
     "text": [
      "Enter the AWS access key id: ········\n",
      "Enter the AWS secret access key id: ········\n"
     ]
    }
   ],
   "source": [
    "aws_access_key_id = getpass.getpass(prompt=\"Enter the AWS access key id: \")\n",
    "aws_secret_access_key = getpass.getpass(prompt=\"Enter the AWS secret access key id: \")\n",
    "\n",
    "credentials = {\n",
    "    'region_name': 'us-east-2',\n",
    "    'aws_access_key_id': aws_access_key_id,\n",
    "    'aws_secret_access_key': aws_secret_access_key\n",
    "}"
   ]
  },
  {
   "cell_type": "code",
   "execution_count": 3,
   "id": "c875b772",
   "metadata": {},
   "outputs": [],
   "source": [
    "session = boto3.session.Session(**credentials)\n",
    "s3 = session.client('s3')"
   ]
  },
  {
   "cell_type": "markdown",
   "id": "46c388d8",
   "metadata": {},
   "source": [
    "**Load in the address data**"
   ]
  },
  {
   "cell_type": "code",
   "execution_count": 4,
   "id": "2a4252f6",
   "metadata": {},
   "outputs": [],
   "source": [
    "bucket_name = 'charlotte-choropleth-data'\n",
    "file_path = 's3://charlotte-choropleth-data/charlotte-addresses/Master_Address.csv'\n",
    "\n",
    "response = s3.list_objects(Bucket=bucket_name)"
   ]
  },
  {
   "cell_type": "code",
   "execution_count": 5,
   "id": "746f1ba8",
   "metadata": {},
   "outputs": [
    {
     "name": "stdout",
     "output_type": "stream",
     "text": [
      "Object Key: charlotte-addresses/\n",
      "Object Key: charlotte-addresses/Master_Address.csv\n"
     ]
    }
   ],
   "source": [
    "for obj in response.get('Contents', []):\n",
    "    print('Object Key:', obj['Key'])"
   ]
  },
  {
   "cell_type": "code",
   "execution_count": 6,
   "id": "0f607629",
   "metadata": {},
   "outputs": [],
   "source": [
    "s3_client = boto3.client('s3')\n",
    "bucket_name = 'charlotte-choropleth-data'\n",
    "\n",
    "#response = s3_client.list_objects(Bucket=bucket_name)\n",
    "\n",
    "obj = s3.get_object(Bucket=bucket_name, Key='charlotte-addresses/Master_Address.csv')\n",
    "data = obj['Body'].read().decode('utf-8')\n",
    "df = pd.read_csv(StringIO(data))"
   ]
  },
  {
   "cell_type": "code",
   "execution_count": 7,
   "id": "7cdfad05",
   "metadata": {},
   "outputs": [
    {
     "data": {
      "text/html": [
       "<div>\n",
       "<style scoped>\n",
       "    .dataframe tbody tr th:only-of-type {\n",
       "        vertical-align: middle;\n",
       "    }\n",
       "\n",
       "    .dataframe tbody tr th {\n",
       "        vertical-align: top;\n",
       "    }\n",
       "\n",
       "    .dataframe thead th {\n",
       "        text-align: right;\n",
       "    }\n",
       "</style>\n",
       "<table border=\"1\" class=\"dataframe\">\n",
       "  <thead>\n",
       "    <tr style=\"text-align: right;\">\n",
       "      <th></th>\n",
       "      <th>X</th>\n",
       "      <th>Y</th>\n",
       "      <th>OBJECTID</th>\n",
       "      <th>AddressID</th>\n",
       "      <th>HouseNumber</th>\n",
       "      <th>Direction</th>\n",
       "      <th>StreetName</th>\n",
       "      <th>StreetType</th>\n",
       "      <th>Suffix</th>\n",
       "      <th>Unit</th>\n",
       "      <th>...</th>\n",
       "      <th>ZipCode</th>\n",
       "      <th>GISParcelID</th>\n",
       "      <th>TaxParcelID</th>\n",
       "      <th>ParcelID</th>\n",
       "      <th>DateUpdated</th>\n",
       "      <th>StatusCode</th>\n",
       "      <th>E911</th>\n",
       "      <th>XCoordinate</th>\n",
       "      <th>YCoordinate</th>\n",
       "      <th>FullAddress</th>\n",
       "    </tr>\n",
       "  </thead>\n",
       "  <tbody>\n",
       "    <tr>\n",
       "      <th>0</th>\n",
       "      <td>1.422115e+06</td>\n",
       "      <td>616465.000202</td>\n",
       "      <td>1</td>\n",
       "      <td>37382</td>\n",
       "      <td>13623</td>\n",
       "      <td>NaN</td>\n",
       "      <td>N C 73</td>\n",
       "      <td>HY</td>\n",
       "      <td>NaN</td>\n",
       "      <td>NaN</td>\n",
       "      <td>...</td>\n",
       "      <td>28078</td>\n",
       "      <td>00101102</td>\n",
       "      <td>101102.0</td>\n",
       "      <td>00101102</td>\n",
       "      <td>2020/05/05 17:43:28+00</td>\n",
       "      <td>A</td>\n",
       "      <td>2932.0</td>\n",
       "      <td>1.422115e+06</td>\n",
       "      <td>616465.000202</td>\n",
       "      <td>13623 N C 73 HY</td>\n",
       "    </tr>\n",
       "    <tr>\n",
       "      <th>1</th>\n",
       "      <td>1.422447e+06</td>\n",
       "      <td>617840.000077</td>\n",
       "      <td>2</td>\n",
       "      <td>436958</td>\n",
       "      <td>13520</td>\n",
       "      <td>NaN</td>\n",
       "      <td>HAGERS FERRY</td>\n",
       "      <td>RD</td>\n",
       "      <td>NaN</td>\n",
       "      <td>NaN</td>\n",
       "      <td>...</td>\n",
       "      <td>28078</td>\n",
       "      <td>00101108</td>\n",
       "      <td>101108.0</td>\n",
       "      <td>00101108</td>\n",
       "      <td>2020/05/05 17:53:52+00</td>\n",
       "      <td>A</td>\n",
       "      <td>4435.0</td>\n",
       "      <td>1.422447e+06</td>\n",
       "      <td>617840.000077</td>\n",
       "      <td>13520 HAGERS FERRY RD</td>\n",
       "    </tr>\n",
       "    <tr>\n",
       "      <th>2</th>\n",
       "      <td>1.422173e+06</td>\n",
       "      <td>617803.000151</td>\n",
       "      <td>3</td>\n",
       "      <td>36800</td>\n",
       "      <td>13516</td>\n",
       "      <td>NaN</td>\n",
       "      <td>HAGERS FERRY</td>\n",
       "      <td>RD</td>\n",
       "      <td>NaN</td>\n",
       "      <td>NaN</td>\n",
       "      <td>...</td>\n",
       "      <td>28078</td>\n",
       "      <td>00101108</td>\n",
       "      <td>101108.0</td>\n",
       "      <td>00101108</td>\n",
       "      <td>2020/05/05 18:40:36+00</td>\n",
       "      <td>A</td>\n",
       "      <td>4435.0</td>\n",
       "      <td>1.422173e+06</td>\n",
       "      <td>617803.000151</td>\n",
       "      <td>13516 HAGERS FERRY RD</td>\n",
       "    </tr>\n",
       "    <tr>\n",
       "      <th>3</th>\n",
       "      <td>1.422874e+06</td>\n",
       "      <td>617469.000163</td>\n",
       "      <td>4</td>\n",
       "      <td>37719</td>\n",
       "      <td>13710</td>\n",
       "      <td>NaN</td>\n",
       "      <td>HAGERS FERRY</td>\n",
       "      <td>RD</td>\n",
       "      <td>NaN</td>\n",
       "      <td>NaN</td>\n",
       "      <td>...</td>\n",
       "      <td>28078</td>\n",
       "      <td>00101109</td>\n",
       "      <td>101109.0</td>\n",
       "      <td>00101109</td>\n",
       "      <td>2020/05/05 17:46:38+00</td>\n",
       "      <td>A</td>\n",
       "      <td>3504.0</td>\n",
       "      <td>1.422874e+06</td>\n",
       "      <td>617469.000163</td>\n",
       "      <td>13710 HAGERS FERRY RD</td>\n",
       "    </tr>\n",
       "    <tr>\n",
       "      <th>4</th>\n",
       "      <td>1.422759e+06</td>\n",
       "      <td>617256.000260</td>\n",
       "      <td>5</td>\n",
       "      <td>37824</td>\n",
       "      <td>13720</td>\n",
       "      <td>NaN</td>\n",
       "      <td>HAGERS FERRY</td>\n",
       "      <td>RD</td>\n",
       "      <td>NaN</td>\n",
       "      <td>NaN</td>\n",
       "      <td>...</td>\n",
       "      <td>28078</td>\n",
       "      <td>00101110</td>\n",
       "      <td>101110.0</td>\n",
       "      <td>00101110</td>\n",
       "      <td>2020/05/05 17:43:38+00</td>\n",
       "      <td>A</td>\n",
       "      <td>3504.0</td>\n",
       "      <td>1.422759e+06</td>\n",
       "      <td>617256.000260</td>\n",
       "      <td>13720 HAGERS FERRY RD</td>\n",
       "    </tr>\n",
       "  </tbody>\n",
       "</table>\n",
       "<p>5 rows × 23 columns</p>\n",
       "</div>"
      ],
      "text/plain": [
       "              X              Y  OBJECTID  AddressID  HouseNumber Direction  \\\n",
       "0  1.422115e+06  616465.000202         1      37382        13623       NaN   \n",
       "1  1.422447e+06  617840.000077         2     436958        13520       NaN   \n",
       "2  1.422173e+06  617803.000151         3      36800        13516       NaN   \n",
       "3  1.422874e+06  617469.000163         4      37719        13710       NaN   \n",
       "4  1.422759e+06  617256.000260         5      37824        13720       NaN   \n",
       "\n",
       "     StreetName StreetType Suffix Unit  ... ZipCode GISParcelID TaxParcelID  \\\n",
       "0        N C 73         HY    NaN  NaN  ...   28078    00101102    101102.0   \n",
       "1  HAGERS FERRY         RD    NaN  NaN  ...   28078    00101108    101108.0   \n",
       "2  HAGERS FERRY         RD    NaN  NaN  ...   28078    00101108    101108.0   \n",
       "3  HAGERS FERRY         RD    NaN  NaN  ...   28078    00101109    101109.0   \n",
       "4  HAGERS FERRY         RD    NaN  NaN  ...   28078    00101110    101110.0   \n",
       "\n",
       "   ParcelID             DateUpdated  StatusCode    E911   XCoordinate  \\\n",
       "0  00101102  2020/05/05 17:43:28+00           A  2932.0  1.422115e+06   \n",
       "1  00101108  2020/05/05 17:53:52+00           A  4435.0  1.422447e+06   \n",
       "2  00101108  2020/05/05 18:40:36+00           A  4435.0  1.422173e+06   \n",
       "3  00101109  2020/05/05 17:46:38+00           A  3504.0  1.422874e+06   \n",
       "4  00101110  2020/05/05 17:43:38+00           A  3504.0  1.422759e+06   \n",
       "\n",
       "     YCoordinate            FullAddress  \n",
       "0  616465.000202        13623 N C 73 HY  \n",
       "1  617840.000077  13520 HAGERS FERRY RD  \n",
       "2  617803.000151  13516 HAGERS FERRY RD  \n",
       "3  617469.000163  13710 HAGERS FERRY RD  \n",
       "4  617256.000260  13720 HAGERS FERRY RD  \n",
       "\n",
       "[5 rows x 23 columns]"
      ]
     },
     "execution_count": 7,
     "metadata": {},
     "output_type": "execute_result"
    }
   ],
   "source": [
    "df.head()"
   ]
  },
  {
   "cell_type": "markdown",
   "id": "cd97c185",
   "metadata": {},
   "source": [
    "**Now use geopandas to convert the weird X and Y coordinates to latitude and longitude**"
   ]
  },
  {
   "cell_type": "code",
   "execution_count": 8,
   "id": "f759c997",
   "metadata": {},
   "outputs": [],
   "source": [
    "df_filtered = df[['X', 'Y', 'HouseNumber', 'Direction', 'StreetName', 'StreetType', 'Suffix', \n",
    "                  'Unit', 'State', 'ZipCode', 'XCoordinate', 'YCoordinate']]"
   ]
  },
  {
   "cell_type": "code",
   "execution_count": 30,
   "id": "ed666f30",
   "metadata": {},
   "outputs": [
    {
     "data": {
      "text/html": [
       "<div>\n",
       "<style scoped>\n",
       "    .dataframe tbody tr th:only-of-type {\n",
       "        vertical-align: middle;\n",
       "    }\n",
       "\n",
       "    .dataframe tbody tr th {\n",
       "        vertical-align: top;\n",
       "    }\n",
       "\n",
       "    .dataframe thead th {\n",
       "        text-align: right;\n",
       "    }\n",
       "</style>\n",
       "<table border=\"1\" class=\"dataframe\">\n",
       "  <thead>\n",
       "    <tr style=\"text-align: right;\">\n",
       "      <th></th>\n",
       "      <th>X</th>\n",
       "      <th>Y</th>\n",
       "      <th>HouseNumber</th>\n",
       "      <th>Direction</th>\n",
       "      <th>StreetName</th>\n",
       "      <th>StreetType</th>\n",
       "      <th>Suffix</th>\n",
       "      <th>Unit</th>\n",
       "      <th>State</th>\n",
       "      <th>ZipCode</th>\n",
       "      <th>XCoordinate</th>\n",
       "      <th>YCoordinate</th>\n",
       "    </tr>\n",
       "  </thead>\n",
       "  <tbody>\n",
       "    <tr>\n",
       "      <th>0</th>\n",
       "      <td>1.422115e+06</td>\n",
       "      <td>616465.000202</td>\n",
       "      <td>13623</td>\n",
       "      <td>NaN</td>\n",
       "      <td>N C 73</td>\n",
       "      <td>HY</td>\n",
       "      <td>NaN</td>\n",
       "      <td>NaN</td>\n",
       "      <td>NC</td>\n",
       "      <td>28078</td>\n",
       "      <td>1.422115e+06</td>\n",
       "      <td>616465.000202</td>\n",
       "    </tr>\n",
       "    <tr>\n",
       "      <th>1</th>\n",
       "      <td>1.422447e+06</td>\n",
       "      <td>617840.000077</td>\n",
       "      <td>13520</td>\n",
       "      <td>NaN</td>\n",
       "      <td>HAGERS FERRY</td>\n",
       "      <td>RD</td>\n",
       "      <td>NaN</td>\n",
       "      <td>NaN</td>\n",
       "      <td>NC</td>\n",
       "      <td>28078</td>\n",
       "      <td>1.422447e+06</td>\n",
       "      <td>617840.000077</td>\n",
       "    </tr>\n",
       "    <tr>\n",
       "      <th>2</th>\n",
       "      <td>1.422173e+06</td>\n",
       "      <td>617803.000151</td>\n",
       "      <td>13516</td>\n",
       "      <td>NaN</td>\n",
       "      <td>HAGERS FERRY</td>\n",
       "      <td>RD</td>\n",
       "      <td>NaN</td>\n",
       "      <td>NaN</td>\n",
       "      <td>NC</td>\n",
       "      <td>28078</td>\n",
       "      <td>1.422173e+06</td>\n",
       "      <td>617803.000151</td>\n",
       "    </tr>\n",
       "    <tr>\n",
       "      <th>3</th>\n",
       "      <td>1.422874e+06</td>\n",
       "      <td>617469.000163</td>\n",
       "      <td>13710</td>\n",
       "      <td>NaN</td>\n",
       "      <td>HAGERS FERRY</td>\n",
       "      <td>RD</td>\n",
       "      <td>NaN</td>\n",
       "      <td>NaN</td>\n",
       "      <td>NC</td>\n",
       "      <td>28078</td>\n",
       "      <td>1.422874e+06</td>\n",
       "      <td>617469.000163</td>\n",
       "    </tr>\n",
       "    <tr>\n",
       "      <th>4</th>\n",
       "      <td>1.422759e+06</td>\n",
       "      <td>617256.000260</td>\n",
       "      <td>13720</td>\n",
       "      <td>NaN</td>\n",
       "      <td>HAGERS FERRY</td>\n",
       "      <td>RD</td>\n",
       "      <td>NaN</td>\n",
       "      <td>NaN</td>\n",
       "      <td>NC</td>\n",
       "      <td>28078</td>\n",
       "      <td>1.422759e+06</td>\n",
       "      <td>617256.000260</td>\n",
       "    </tr>\n",
       "  </tbody>\n",
       "</table>\n",
       "</div>"
      ],
      "text/plain": [
       "              X              Y  HouseNumber Direction    StreetName  \\\n",
       "0  1.422115e+06  616465.000202        13623       NaN        N C 73   \n",
       "1  1.422447e+06  617840.000077        13520       NaN  HAGERS FERRY   \n",
       "2  1.422173e+06  617803.000151        13516       NaN  HAGERS FERRY   \n",
       "3  1.422874e+06  617469.000163        13710       NaN  HAGERS FERRY   \n",
       "4  1.422759e+06  617256.000260        13720       NaN  HAGERS FERRY   \n",
       "\n",
       "  StreetType Suffix Unit State  ZipCode   XCoordinate    YCoordinate  \n",
       "0         HY    NaN  NaN    NC    28078  1.422115e+06  616465.000202  \n",
       "1         RD    NaN  NaN    NC    28078  1.422447e+06  617840.000077  \n",
       "2         RD    NaN  NaN    NC    28078  1.422173e+06  617803.000151  \n",
       "3         RD    NaN  NaN    NC    28078  1.422874e+06  617469.000163  \n",
       "4         RD    NaN  NaN    NC    28078  1.422759e+06  617256.000260  "
      ]
     },
     "execution_count": 30,
     "metadata": {},
     "output_type": "execute_result"
    }
   ],
   "source": [
    "df_filtered.head()"
   ]
  },
  {
   "cell_type": "code",
   "execution_count": 31,
   "id": "3d8c5e94",
   "metadata": {},
   "outputs": [],
   "source": [
    "import geopandas as gpd\n",
    "from shapely.geometry import Point\n",
    "\n",
    "geometry = [Point(xy) for xy in zip(df_filtered['X'], df_filtered['Y'])]\n",
    "gdf = gpd.GeoDataFrame(df, geometry=geometry)"
   ]
  },
  {
   "cell_type": "code",
   "execution_count": 32,
   "id": "bb576312",
   "metadata": {},
   "outputs": [],
   "source": [
    "gdf.crs = 'epsg:2264'"
   ]
  },
  {
   "cell_type": "code",
   "execution_count": 29,
   "id": "298cc690",
   "metadata": {},
   "outputs": [],
   "source": [
    "gdf = gdf.to_crs('epsg:4326')"
   ]
  },
  {
   "cell_type": "code",
   "execution_count": 31,
   "id": "758d7ef0",
   "metadata": {},
   "outputs": [],
   "source": [
    "gdf.to_file(\"../gpd-dfs/address-geometry-gdf.geojson\", driver=\"GeoJSON\")"
   ]
  },
  {
   "cell_type": "code",
   "execution_count": 32,
   "id": "603d9c50",
   "metadata": {},
   "outputs": [],
   "source": [
    "address_geometry_gdf = gpd.read_file(\"../gpd-dfs/address-geometry-gdf.geojson\")"
   ]
  },
  {
   "cell_type": "code",
   "execution_count": 12,
   "id": "841edb1c",
   "metadata": {},
   "outputs": [
    {
     "data": {
      "text/plain": [
       "634334"
      ]
     },
     "execution_count": 12,
     "metadata": {},
     "output_type": "execute_result"
    }
   ],
   "source": [
    "len(address_geometry_gdf.index)"
   ]
  },
  {
   "cell_type": "code",
   "execution_count": 33,
   "id": "a2256bc7",
   "metadata": {},
   "outputs": [],
   "source": [
    "# This library allows for fuzzy input\n",
    "import Levenshtein\n",
    "\n",
    "# This library parses user input and extracts different elements\n",
    "import usaddress"
   ]
  },
  {
   "cell_type": "code",
   "execution_count": 34,
   "id": "42db8699",
   "metadata": {},
   "outputs": [
    {
     "name": "stdout",
     "output_type": "stream",
     "text": [
      "[('1234', 'AddressNumber'), ('Elm', 'StreetName'), ('St', 'StreetNamePostType'), ('NW', 'StreetNamePostDirectional'), ('Washington', 'PlaceName'), ('DC', 'StateName'), ('20001', 'ZipCode')]\n"
     ]
    }
   ],
   "source": [
    "# Example of how to use usaddress library\n",
    "\n",
    "address = \"1234 Elm St NW Washington DC 20001\"\n",
    "parsed = usaddress.parse(address)\n",
    "\n",
    "print(parsed)"
   ]
  },
  {
   "cell_type": "code",
   "execution_count": 35,
   "id": "1dce7929",
   "metadata": {},
   "outputs": [],
   "source": [
    "def closest_addresses(search_address, df, top_n=5):\n",
    "    # Directional can be Stre\n",
    "    \n",
    "    \n",
    "    df['distance'] = df['FullAddress'].apply(lambda x: Levenshtein.distance(search_address, x))\n",
    "    return df.nsmallest(top_n, 'distance')[['FullAddress', 'geometry']]"
   ]
  },
  {
   "cell_type": "code",
   "execution_count": 38,
   "id": "c29f6a21",
   "metadata": {},
   "outputs": [
    {
     "name": "stdout",
     "output_type": "stream",
     "text": [
      "[('300', 'AddressNumber'), ('Camp', 'StreetName'), ('Rd,', 'StreetNamePostType'), ('Charlotte,', 'PlaceName'), ('NC', 'StateName'), ('28206', 'ZipCode')]\n",
      "['HouseNumber', 'StreetName', 'StreetType', 'State', 'ZipCode']\n"
     ]
    },
    {
     "ename": "KeyError",
     "evalue": "'PlaceName'",
     "output_type": "error",
     "traceback": [
      "\u001b[1;31m---------------------------------------------------------------------------\u001b[0m",
      "\u001b[1;31mKeyError\u001b[0m                                  Traceback (most recent call last)",
      "Input \u001b[1;32mIn [38]\u001b[0m, in \u001b[0;36m<cell line: 3>\u001b[1;34m()\u001b[0m\n\u001b[0;32m      1\u001b[0m search_address \u001b[38;5;241m=\u001b[39m \u001b[38;5;124m'\u001b[39m\u001b[38;5;124m300 Camp Rd, Charlotte, NC 28206\u001b[39m\u001b[38;5;124m'\u001b[39m\n\u001b[1;32m----> 3\u001b[0m \u001b[38;5;28mprint\u001b[39m(\u001b[43mclosest_addresses\u001b[49m\u001b[43m(\u001b[49m\u001b[43msearch_address\u001b[49m\u001b[43m,\u001b[49m\u001b[43m \u001b[49m\u001b[43maddress_geometry_gdf\u001b[49m\u001b[43m)\u001b[49m)\n",
      "Input \u001b[1;32mIn [36]\u001b[0m, in \u001b[0;36mclosest_addresses\u001b[1;34m(search_address, df, top_n)\u001b[0m\n\u001b[0;32m     38\u001b[0m address_df_context \u001b[38;5;241m=\u001b[39m {}\n\u001b[0;32m     39\u001b[0m \u001b[38;5;28;01mfor\u001b[39;00m value, col_key \u001b[38;5;129;01min\u001b[39;00m address_parsed:\n\u001b[1;32m---> 40\u001b[0m     address_df_context[\u001b[43mmap_usaddress_to_cols\u001b[49m\u001b[43m[\u001b[49m\u001b[43mcol_key\u001b[49m\u001b[43m]\u001b[49m] \u001b[38;5;241m=\u001b[39m value\n\u001b[0;32m     42\u001b[0m \u001b[38;5;66;03m# Find the Levenshtein distance for each of the sub-parts and sum them together\u001b[39;00m\n\u001b[0;32m     43\u001b[0m \u001b[38;5;28;01mdef\u001b[39;00m \u001b[38;5;21mcompute_distance\u001b[39m(row):\n",
      "\u001b[1;31mKeyError\u001b[0m: 'PlaceName'"
     ]
    }
   ],
   "source": [
    "search_address = '300 Camp Rd, Charlotte, NC 28206'\n",
    "\n",
    "print(closest_addresses(search_address, address_geometry_gdf))"
   ]
  },
  {
   "cell_type": "code",
   "execution_count": 17,
   "id": "614eccbf",
   "metadata": {},
   "outputs": [
    {
     "data": {
      "text/plain": [
       "X                                          1436135.000195\n",
       "Y                                            636976.00019\n",
       "OBJECTID                                             1035\n",
       "AddressID                                           69508\n",
       "HouseNumber                                         20444\n",
       "Direction                                             NaN\n",
       "StreetName                               GREENWAY HEIGHTS\n",
       "StreetType                                             DR\n",
       "Suffix                                                NaN\n",
       "Unit                                                  NaN\n",
       "Jurisdiction                                    CORNELIUS\n",
       "PostalCity                                      CORNELIUS\n",
       "State                                                  NC\n",
       "ZipCode                                             28031\n",
       "GISParcelID                                      00113367\n",
       "TaxParcelID                                      113367.0\n",
       "ParcelID                                         00113367\n",
       "DateUpdated                     2020-05-05 17:39:52+00:00\n",
       "StatusCode                                              A\n",
       "E911                                               4143.0\n",
       "XCoordinate                                1436135.000195\n",
       "YCoordinate                                  636976.00019\n",
       "FullAddress                     20444 GREENWAY HEIGHTS DR\n",
       "geometry        POINT (1436135.00019538 636976.000190482)\n",
       "distance                                               29\n",
       "Name: 1034, dtype: object"
      ]
     },
     "execution_count": 17,
     "metadata": {},
     "output_type": "execute_result"
    }
   ],
   "source": [
    "address_geometry_gdf.iloc[1034]"
   ]
  },
  {
   "cell_type": "code",
   "execution_count": 18,
   "id": "ef921583",
   "metadata": {},
   "outputs": [],
   "source": [
    "#DF: HouseNumber, Direction, StreetName, StreetType, ZipCode, State, PostalCity\n",
    "#US: AddressNumber, StreetNamePreDirectional, StreetName, StreetNamePostType, StreetNamePostDirectional, CityName, StateName, ZipCode\n",
    "\n"
   ]
  },
  {
   "cell_type": "markdown",
   "id": "97812865",
   "metadata": {},
   "source": [
    "# FIX ME"
   ]
  },
  {
   "cell_type": "code",
   "execution_count": 57,
   "id": "ce635b4b",
   "metadata": {},
   "outputs": [],
   "source": [
    "def closest_addresses(search_address, df, top_n=5):\n",
    "    # used to connect us address labels to column names\n",
    "    map_usaddress_to_cols = {\n",
    "        'AddressNumber': 'HouseNumber',\n",
    "        'StreetNamePreDirectional': 'Direction',\n",
    "        'StreetNamePostDirectional': 'Direction',\n",
    "        'StreetName': 'StreetName',\n",
    "        'StreetNamePostType': 'StreetType',\n",
    "        'ZipCode': 'ZipCode',\n",
    "        'StateName': 'State',\n",
    "        'CityName': 'PostalCity'\n",
    "    }\n",
    "    \n",
    "    address_parsed = usaddress.parse(search_address)\n",
    "    \n",
    "    # combine repeated elements (i.e. ('GREENWAY', 'StreetName'), ('HEIGHTS', 'StreetName'))\n",
    "    output = []\n",
    "    seen_labels = {}\n",
    "    for value, label in address_parsed:\n",
    "        if label in seen_labels:\n",
    "            idx = seen_labels[label]\n",
    "            prev_value, _ = output[idx]\n",
    "            output[idx] = (f\"{prev_value} {value}\", label)\n",
    "        else:\n",
    "            seen_labels[label] = len(output)\n",
    "            output.append((value, label))\n",
    "            \n",
    "    # update to include merged values\n",
    "    address_parsed = output\n",
    "    \n",
    "    cols_present = list(map(lambda x: map_usaddress_to_cols.get(x[1], None), address_parsed))\n",
    "    cols_present = [r for r in cols_present if r]\n",
    "    \n",
    "    print(address_parsed)\n",
    "    print(cols_present)\n",
    "    \n",
    "    # stores the found values under names understood by df\n",
    "    address_df_context = {}\n",
    "    for value, col_key in address_parsed:\n",
    "        address_df_context[map_usaddress_to_cols[col_key]] = value\n",
    "\n",
    "    add_geom_gdf_copy = address_geometry_gdf.copy()\n",
    "    if 'StreetName' in cols_present and any(add_geom_gdf_copy['StreetName'].str.contains(address_df_context['StreetName'], case=False, na=False).values):\n",
    "        add_geom_gdf_copy = add_geom_gdf_copy[add_geom_gdf_copy['StreetName'].str.contains(address_df_context['StreetName'], case=False, na=False)]\n",
    "    if 'ZipCode' in cols_present and any(add_geom_gdf_copy['ZipCode'].str.contains(address_df_context['ZipCode'], case=False, na=False).values):\n",
    "        add_geom_gdf_copy = add_geom_gdf_copy[add_geom_gdf_copy['ZipCode'].str.contains(address_df_context['ZipCode'], case=False, na=False)]\n",
    "    if 'StreetType' in cols_present and any(add_geom_gdf_copy['StreetType'].str.contains(address_df_context['StreetType'], case=False, na=False).values):\n",
    "        add_geom_gdf_copy = add_geom_gdf_copy[add_geom_gdf_copy['StreetType'].str.contains(address_df_context['StreetType'], case=False, na=False)]\n",
    "        \n",
    "    # Find the Levenshtein distance for each of the sub-parts and sum them together\n",
    "    def compute_distance(row):\n",
    "        total_distance = 0\n",
    "        for col, address_part in address_df_context.items():\n",
    "            # Ensure the dataframe's column and the dictionary value are both strings\n",
    "            row_value = str(row[col]) if not pd.isna(row[col]) else \"\"\n",
    "            total_distance += Levenshtein.distance(row_value, address_part)\n",
    "        return total_distance\n",
    "    \n",
    "    add_geom_gdf_copy['distance'] = add_geom_gdf_copy.apply(compute_distance, axis=1)\n",
    "\n",
    "    return add_geom_gdf_copy.nsmallest(top_n, 'distance')[['FullAddress', 'geometry']]"
   ]
  },
  {
   "cell_type": "code",
   "execution_count": 56,
   "id": "136301ad",
   "metadata": {},
   "outputs": [
    {
     "data": {
      "text/plain": [
       "True"
      ]
     },
     "execution_count": 56,
     "metadata": {},
     "output_type": "execute_result"
    }
   ],
   "source": [
    "#address_geometry_gdf[['FullAddress']].values\n",
    "if 'StreetName' in cols_present and any(address_geometry_gdf['StreetName'].str.contains('HAGERS', case=False, na=False).values):\n",
    "    pass\n",
    "if 'ZipCode' in cols_present and any(address_geometry_gdf['ZipCode'].str.contains('HAGERS', case=False, na=False).values):\n",
    "    pass\n",
    "if 'StreetType' in cols_present and any(address_geometry_gdf['StreetType'].str.contains('HAGERS', case=False, na=False).values):\n",
    "    pass\n"
   ]
  },
  {
   "cell_type": "code",
   "execution_count": 61,
   "id": "fda1c40c",
   "metadata": {},
   "outputs": [
    {
     "name": "stdout",
     "output_type": "stream",
     "text": [
      "[('20444', 'AddressNumber'), ('GREENWAY HEIGHTS', 'StreetName'), ('DRIVE', 'StreetNamePostType')]\n",
      "['HouseNumber', 'StreetName', 'StreetType']\n"
     ]
    },
    {
     "data": {
      "text/html": [
       "<div>\n",
       "<style scoped>\n",
       "    .dataframe tbody tr th:only-of-type {\n",
       "        vertical-align: middle;\n",
       "    }\n",
       "\n",
       "    .dataframe tbody tr th {\n",
       "        vertical-align: top;\n",
       "    }\n",
       "\n",
       "    .dataframe thead th {\n",
       "        text-align: right;\n",
       "    }\n",
       "</style>\n",
       "<table border=\"1\" class=\"dataframe\">\n",
       "  <thead>\n",
       "    <tr style=\"text-align: right;\">\n",
       "      <th></th>\n",
       "      <th>FullAddress</th>\n",
       "      <th>geometry</th>\n",
       "    </tr>\n",
       "  </thead>\n",
       "  <tbody>\n",
       "    <tr>\n",
       "      <th>1034</th>\n",
       "      <td>20444 GREENWAY HEIGHTS DR</td>\n",
       "      <td>POINT (-80.89427 35.48542)</td>\n",
       "    </tr>\n",
       "    <tr>\n",
       "      <th>1033</th>\n",
       "      <td>20448 GREENWAY HEIGHTS DR</td>\n",
       "      <td>POINT (-80.89428 35.48525)</td>\n",
       "    </tr>\n",
       "    <tr>\n",
       "      <th>1035</th>\n",
       "      <td>20440 GREENWAY HEIGHTS DR</td>\n",
       "      <td>POINT (-80.89430 35.48558)</td>\n",
       "    </tr>\n",
       "    <tr>\n",
       "      <th>1037</th>\n",
       "      <td>20424 GREENWAY HEIGHTS DR</td>\n",
       "      <td>POINT (-80.89432 35.48636)</td>\n",
       "    </tr>\n",
       "    <tr>\n",
       "      <th>1031</th>\n",
       "      <td>20456 GREENWAY HEIGHTS DR</td>\n",
       "      <td>POINT (-80.89395 35.48499)</td>\n",
       "    </tr>\n",
       "  </tbody>\n",
       "</table>\n",
       "</div>"
      ],
      "text/plain": [
       "                    FullAddress                    geometry\n",
       "1034  20444 GREENWAY HEIGHTS DR  POINT (-80.89427 35.48542)\n",
       "1033  20448 GREENWAY HEIGHTS DR  POINT (-80.89428 35.48525)\n",
       "1035  20440 GREENWAY HEIGHTS DR  POINT (-80.89430 35.48558)\n",
       "1037  20424 GREENWAY HEIGHTS DR  POINT (-80.89432 35.48636)\n",
       "1031  20456 GREENWAY HEIGHTS DR  POINT (-80.89395 35.48499)"
      ]
     },
     "execution_count": 61,
     "metadata": {},
     "output_type": "execute_result"
    }
   ],
   "source": [
    "closest_addresses(search_address=\"20444 GREENWAY HEIGHTS DRIVE\", df=address_geometry_gdf)"
   ]
  },
  {
   "cell_type": "code",
   "execution_count": 23,
   "id": "a5115e6a",
   "metadata": {},
   "outputs": [
    {
     "data": {
      "text/plain": [
       "<Projected CRS: EPSG:2264>\n",
       "Name: NAD83 / North Carolina (ftUS)\n",
       "Axis Info [cartesian]:\n",
       "- X[east]: Easting (US survey foot)\n",
       "- Y[north]: Northing (US survey foot)\n",
       "Area of Use:\n",
       "- name: United States (USA) - North Carolina - counties of Alamance; Alexander; Alleghany; Anson; Ashe; Avery; Beaufort; Bertie; Bladen; Brunswick; Buncombe; Burke; Cabarrus; Caldwell; Camden; Carteret; Caswell; Catawba; Chatham; Cherokee; Chowan; Clay; Cleveland; Columbus; Craven; Cumberland; Currituck; Dare; Davidson; Davie; Duplin; Durham; Edgecombe; Forsyth; Franklin; Gaston; Gates; Graham; Granville; Greene; Guilford; Halifax; Harnett; Haywood; Henderson; Hertford; Hoke; Hyde; Iredell; Jackson; Johnston; Jones; Lee; Lenoir; Lincoln; Macon; Madison; Martin; McDowell; Mecklenburg; Mitchell; Montgomery; Moore; Nash; New Hanover; Northampton; Onslow; Orange; Pamlico; Pasquotank; Pender; Perquimans; Person; Pitt; Polk; Randolph; Richmond; Robeson; Rockingham; Rowan; Rutherford; Sampson; Scotland; Stanly; Stokes; Surry; Swain; Transylvania; Tyrrell; Union; Vance; Wake; Warren; Washington; Watauga; Wayne; Wilkes; Wilson; Yadkin; Yancey.\n",
       "- bounds: (-84.33, 33.83, -75.38, 36.59)\n",
       "Coordinate Operation:\n",
       "- name: SPCS83 North Carolina zone (US Survey feet)\n",
       "- method: Lambert Conic Conformal (2SP)\n",
       "Datum: North American Datum 1983\n",
       "- Ellipsoid: GRS 1980\n",
       "- Prime Meridian: Greenwich"
      ]
     },
     "execution_count": 23,
     "metadata": {},
     "output_type": "execute_result"
    }
   ],
   "source": [
    "address_geometry_gdf.crs"
   ]
  },
  {
   "cell_type": "code",
   "execution_count": 81,
   "id": "632e95f9",
   "metadata": {},
   "outputs": [
    {
     "data": {
      "text/plain": [
       "[('20444', 'AddressNumber'),\n",
       " ('GREENWAY', 'StreetName'),\n",
       " ('HEIGHTS', 'StreetName'),\n",
       " ('DR', 'StreetNamePostType')]"
      ]
     },
     "execution_count": 81,
     "metadata": {},
     "output_type": "execute_result"
    }
   ],
   "source": [
    "usaddress.parse(\"20444 GREENWAY HEIGHTS DR\")"
   ]
  },
  {
   "cell_type": "code",
   "execution_count": null,
   "id": "0abc99f4",
   "metadata": {},
   "outputs": [],
   "source": []
  }
 ],
 "metadata": {
  "kernelspec": {
   "display_name": "Python 3 (ipykernel)",
   "language": "python",
   "name": "python3"
  },
  "language_info": {
   "codemirror_mode": {
    "name": "ipython",
    "version": 3
   },
   "file_extension": ".py",
   "mimetype": "text/x-python",
   "name": "python",
   "nbconvert_exporter": "python",
   "pygments_lexer": "ipython3",
   "version": "3.9.13"
  }
 },
 "nbformat": 4,
 "nbformat_minor": 5
}
